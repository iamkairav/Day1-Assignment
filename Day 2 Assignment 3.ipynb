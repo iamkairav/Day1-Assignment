{
  "nbformat": 4,
  "nbformat_minor": 0,
  "metadata": {
    "colab": {
      "name": "letusupgrade-python.ipynb",
      "provenance": []
    },
    "kernelspec": {
      "name": "python3",
      "display_name": "Python 3"
    }
  },
  "cells": [
    {
      "cell_type": "code",
      "metadata": {
        "colab": {
          "base_uri": "https://localhost:8080/"
        },
        "id": "uYGjUd0-nRMf",
        "outputId": "3b849348-e31b-464a-b800-1b4962d97b7d"
      },
      "source": [
        "#3. Experiment with at least 5 default function of dict\r\n",
        "a = {\"name\":\"Kamal Singh\",\"age\":17,\"studing\": \"Python\"}\r\n",
        "b=a.setdefault('age')   #1\r\n",
        "print(b)\r\n",
        "print(a.items())  #2\r\n",
        "print(a.get(\"name\"))  #3\r\n",
        "print(a.update({\"mobile no\": 651597853}))  #4\r\n",
        "print(a)\r\n",
        "a.clear()    #5\r\n",
        "print(a)\r\n",
        "#By Kamal Singh"
      ],
      "execution_count": 10,
      "outputs": [
        {
          "output_type": "stream",
          "text": [
            "17\n",
            "dict_items([('name', 'Kamal Singh'), ('age', 17), ('studing', 'Python')])\n",
            "Kamal Singh\n",
            "None\n",
            "{'name': 'Kamal Singh', 'age': 17, 'studing': 'Python', 'mobile no': 651597853}\n",
            "{}\n"
          ],
          "name": "stdout"
        }
      ]
    }
  ]
}