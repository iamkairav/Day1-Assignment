{
  "nbformat": 4,
  "nbformat_minor": 0,
  "metadata": {
    "colab": {
      "name": "letusupgrade-python.ipynb",
      "provenance": []
    },
    "kernelspec": {
      "name": "python3",
      "display_name": "Python 3"
    }
  },
  "cells": [
    {
      "cell_type": "code",
      "metadata": {
        "colab": {
          "base_uri": "https://localhost:8080/"
        },
        "id": "uYGjUd0-nRMf",
        "outputId": "c62b2aa2-470c-4ec0-b60b-e8e2dee7e31d"
      },
      "source": [
        "# 1. Try 5 different functions of the string in python\r\n",
        "name =\"kamal singh\" \r\n",
        "print(name.capitalize()) #1 converts first character to upper case\r\n",
        "print(name.islower()) # 2 Returns True if all characters in the string are lower case\r\n",
        "print(name.startswith(\"kamal\")) #3 Returns true if the string starts with the specified value\r\n",
        "print(name.endswith(\"gupta\")) #4 Returns true if the string ends with the specified value\r\n",
        "print(name.upper()) #5 Converts a string into upper case"
      ],
      "execution_count": 25,
      "outputs": [
        {
          "output_type": "stream",
          "text": [
            "Kamal singh\n",
            "True\n",
            "True\n",
            "False\n",
            "KAMAL SINGH\n"
          ],
          "name": "stdout"
        }
      ]
    }
  ]
}