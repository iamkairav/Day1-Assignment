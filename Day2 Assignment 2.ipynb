{
  "nbformat": 4,
  "nbformat_minor": 0,
  "metadata": {
    "colab": {
      "name": "letusupgrade-python.ipynb",
      "provenance": []
    },
    "kernelspec": {
      "name": "python3",
      "display_name": "Python 3"
    }
  },
  "cells": [
    {
      "cell_type": "code",
      "metadata": {
        "colab": {
          "base_uri": "https://localhost:8080/"
        },
        "id": "uYGjUd0-nRMf",
        "outputId": "a7a3813d-ec11-40fe-e611-fae57bdd3584"
      },
      "source": [
        "List1 = [1, 2, 3] \r\n",
        "List2 = [4, 5, 6, 7] \r\n",
        "List3 = [2, 9, 1, 5,2,9,6,8,2,6,7,1,5,4,6,8,3,2,1,7,5,9,5,8,1,6] \r\n",
        " \r\n",
        "List1.extend(List2)\t\t#1 Adds contents to List1 to the end of List2. \r\n",
        "print(List1) \r\n",
        "print(sum(List1)) #2 Calculates sum of all the elements of List\r\n",
        "print(List3.count(5)) #3 Calculates total occurrence of given element of List\r\n",
        "print(len(List3)) #4 Calculates total length of List.\r\n",
        "List3.reverse()  #5 Reverse the List\r\n",
        "print(List3)\r\n",
        "# By Kamal Singh\r\n"
      ],
      "execution_count": 35,
      "outputs": [
        {
          "output_type": "stream",
          "text": [
            "[1, 2, 3, 4, 5, 6, 7]\n",
            "28\n",
            "4\n",
            "26\n",
            "[6, 1, 8, 5, 9, 5, 7, 1, 2, 3, 8, 6, 4, 5, 1, 7, 6, 2, 8, 6, 9, 2, 5, 1, 9, 2]\n"
          ],
          "name": "stdout"
        }
      ]
    }
  ]
}